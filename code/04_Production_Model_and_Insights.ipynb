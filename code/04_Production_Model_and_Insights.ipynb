{
 "cells": [
  {
   "cell_type": "markdown",
   "metadata": {},
   "source": [
    "***\n"
   ]
  },
  {
   "cell_type": "markdown",
   "metadata": {},
   "source": [
    "## Executive Summary\n",
    "\n",
    "This exercise examines the effects of features on the prediction of a house pricing model in the city of Ames, Iowa.\n",
    "\n",
    "Using historical housing sale data, we are tasked to optimise the price prediction model with features that could help explain the sale value. \n",
    "\n",
    "\n",
    "Contents:\n",
    "- 1.0 Data Cleaning\n",
    "- 2.0 Exploratory Data Analysis\n",
    "- 3.0 Preprocessing and Feature Engineering\n",
    "- 4.0 Modeling Benchmarks\n",
    "- 5.0 Prepare Test Set for Modeling\n",
    "- 6.0 Model on Test Set\n",
    "- 7.0 The Ames Housing Project Report \n",
    "\n",
    "\n",
    "Data:\n",
    "- The Ames Housing Data\n",
    "\n",
    "Using the results from our model we know that it the following coefficients have a large impact on how the price is being predicted.\n",
    "\n",
    "We may narrow value-added features these down into 3 groups of interest:\n",
    "\n",
    "1. Quality\n",
    "2. Total Area (Sqft)\n",
    "3. Neighbourhood\n",
    "\n",
    "However, this model may not generalise well to other cities as these features are specifically unique to this area and property market. To generalise the model, we would have to underfit it which will have a negative impact on its accuracy, but increase the generalisation and decrease the bais of the model.\n",
    "\n",
    "\n",
    "\n",
    "\n"
   ]
  },
  {
   "cell_type": "markdown",
   "metadata": {},
   "source": [
    "***"
   ]
  },
  {
   "cell_type": "markdown",
   "metadata": {},
   "source": [
    "# 7.0 The Ames Housing Project Report\n",
    "\n",
    "## 7.1 Problem Statement\n",
    "\n",
    "The sale prices for all kinds of houses are currently valued using different parameters, each having its own significant value in the buyer and seller’s eyes. \n",
    "\n",
    "In the property market, there is no one-stop solution to how these values can affect the house’s final sale value. Estimators exist, but their accuracy varies. The only way to get a house evaluated is through a Real Estate Appraiser. \n",
    "\n",
    "While many would put a few important parameters to evaluate these properties in its current economic situation, it doesn’t give a clear justification on how the house and its current offerings affect the prices.  \n",
    "\n",
    "I aim to create an ElasticNet model that is accurate in predicting a house’s sale price using specific parameters from previous sales data to create a more accurate estimate and its justifications for both buyer and seller in the market."
   ]
  },
  {
   "cell_type": "markdown",
   "metadata": {},
   "source": [
    "***"
   ]
  },
  {
   "cell_type": "markdown",
   "metadata": {},
   "source": [
    "## 7.2 My Model\n",
    "\n",
    "\n",
    "As our goal is to locate the optimum model complexity while minimising over fitting, I have chosen ElasticNet for its ability to incorporate 2 reggression models into one. \n",
    "\n",
    "ElasticNet has the ability to regularise large coefficients which exist in my feature engineered columns, which my otherwise command a a larger coefficient resulting in higher variance. By combining Ridge regressiona and Lasso regression, it gives the best balance of penalty calculation towards our coefficients by adding both penalties to the loss function. \n",
    "\n",
    "To improve on optimisation, I have also chosen to process the ElasticNet with a pipeline along with GridSearchCV to calculate the best parameters for ElasticNet. \n",
    "\n",
    "our model works best with an alpha of 4.893900918477494 and a L1 to L2 ratio of 0.8105263157894738\n",
    "\n"
   ]
  },
  {
   "cell_type": "markdown",
   "metadata": {},
   "source": [
    "***"
   ]
  },
  {
   "attachments": {},
   "cell_type": "markdown",
   "metadata": {},
   "source": [
    "#### Correlation Coefficient \n",
    "\n",
    "![Coeff_postiive.png](https://github.com/rongwong/ames_housing/blob/master/images/Coeff_postiive.png?raw=true)\n"
   ]
  },
  {
   "cell_type": "markdown",
   "metadata": {},
   "source": [
    "We see the top positive coefficients used by the model to achieve its predicted sales value.\n",
    "\n",
    "The top factors positively affecting price are the property's quality of builds or materials, total areas, and neighbourhood.\n"
   ]
  },
  {
   "attachments": {},
   "cell_type": "markdown",
   "metadata": {},
   "source": [
    "![distplot_saleprice.png](https://github.com/rongwong/ames_housing/blob/master/images/distplot_saleprice.png?raw=true)"
   ]
  },
  {
   "cell_type": "markdown",
   "metadata": {},
   "source": [
    "We see that the distribution graphs are right skewed with a very long tail, indicating that there are some extreme values. We have established that they do not seem to be outliers as they still fall inside city demographics sourced from the internet. "
   ]
  },
  {
   "attachments": {},
   "cell_type": "markdown",
   "metadata": {},
   "source": [
    "![barplot_saleprice.png](https://github.com/rongwong/ames_housing/blob/master/images/barplot_saleprice.png?raw=true)"
   ]
  },
  {
   "cell_type": "markdown",
   "metadata": {},
   "source": [
    "We see the bars following a pattern of increment in value as the ordinal ratings increase. This means that a house with a better quality build will receive much more in sales price than a house who has only scored average on quality."
   ]
  },
  {
   "attachments": {},
   "cell_type": "markdown",
   "metadata": {},
   "source": [
    "![Scatterplot_saleprice.png](https://github.com/rongwong/ames_housing/blob/master/images/Scatterplot_saleprice.png?raw=true)"
   ]
  },
  {
   "cell_type": "markdown",
   "metadata": {},
   "source": [
    "The scatter plots of the highest coefficients show a high correlation to sale price"
   ]
  },
  {
   "attachments": {},
   "cell_type": "markdown",
   "metadata": {},
   "source": [
    "![boxplot_neighbourhood.png](https://github.com/rongwong/ames_housing/blob/master/images/boxplot_neighbourhood.png?raw=true)"
   ]
  },
  {
   "cell_type": "markdown",
   "metadata": {},
   "source": [
    "A boxplot showing the percentiles of sale values of the neighbourhood and the average median of the neoghbourhoods. This boxplot also shows a good number of neighbourhoods falling below the average. "
   ]
  },
  {
   "cell_type": "markdown",
   "metadata": {},
   "source": [
    "## 7.3 Conclusion & Recommendations\n",
    "\n",
    "\n",
    "Using the results from our model we know that it the following coefficients have a large impact on how the price is being predicted. \n",
    "\n",
    "We may narrow value-added features these down into 3 groups of interest:\n",
    "1. Quality\n",
    "2. Total Area (Sqft)\n",
    "3. Neighbourhood\n",
    "\n",
    "\n",
    "1. Quality\n",
    "We can see that Quality and its permutations in the data has a large weight in the predictions. It shows that Buyers are willing to pay top dollar for houses which are built with quality in mind. The resonates with the quality of other assets on the property. \n",
    "\n",
    "Sellers should then focus on improving the quality of their house since they will not be able to change its location, or totsl area easily. \n",
    "\n",
    "2. Total Area(Sqft)\n",
    "As we can expect to pay more for a larger cake, we should expect same with buying land. Although we can see that it has a large impact in the value, the negative impact of poor quality in a poorly valued neighbourhood will reverse the incremental increase in price given the area.\n",
    "\n",
    "3. Neighbourhood\n",
    "We can see from the EDA that some neighbourhood clearly have higher valued lots. We do not know the exact causation to how the neighbourhood is valued, more data is needed here. The top 3 neighbourhoods with the highest median sale price are: Stone Brook, Northridge and Northridge Heights. \n",
    "\n",
    "\n",
    "Conversely, it is suggested that poorly constructed, aesthetically poor or unfinished houses often receive lower values. \n",
    "\n",
    "However, this model may not generalise well to other cities as these features are specifically unique to this area and property market. To generalise the model, we would have to underfit it which will have a negative impact on its accuracy, but increase the generalisation  and decrease the bais of the model. "
   ]
  },
  {
   "cell_type": "markdown",
   "metadata": {},
   "source": [
    "***"
   ]
  },
  {
   "cell_type": "markdown",
   "metadata": {},
   "source": [
    "proceed back to:\n",
    "- [01_Cleaning_for_Train_and_Test_Sets](01_Cleaning_for_Train_and_Test_Sets.ipynb)\n",
    "- [02_EDA](02_EDA.ipynb)\n",
    "- [03_Preprocessing_and_Modeling](03_Preprocessing_and_Modeling.ipynb)\n"
   ]
  }
 ],
 "metadata": {
  "kernelspec": {
   "display_name": "Python 3",
   "language": "python",
   "name": "python3"
  },
  "language_info": {
   "codemirror_mode": {
    "name": "ipython",
    "version": 3
   },
   "file_extension": ".py",
   "mimetype": "text/x-python",
   "name": "python",
   "nbconvert_exporter": "python",
   "pygments_lexer": "ipython3",
   "version": "3.7.6"
  }
 },
 "nbformat": 4,
 "nbformat_minor": 4
}
